{
 "cells": [
  {
   "cell_type": "markdown",
   "metadata": {},
   "source": [
    "# Objectron conversion to WebDataset Format"
   ]
  },
  {
   "cell_type": "code",
   "execution_count": 1,
   "metadata": {},
   "outputs": [],
   "source": [
    "import re\n",
    "import os\n",
    "import os.path\n",
    "import json"
   ]
  },
  {
   "cell_type": "code",
   "execution_count": 2,
   "metadata": {},
   "outputs": [],
   "source": [
    "assert os.path.exists(\"objectron-files.txt\")\n",
    "# create with:\n",
    "# !gsutil ls -r gs://objectron > objectron-files.txt"
   ]
  },
  {
   "cell_type": "markdown",
   "metadata": {},
   "source": [
    "# Parameters"
   ]
  },
  {
   "cell_type": "code",
   "execution_count": 3,
   "metadata": {},
   "outputs": [],
   "source": [
    "shard_size = 3 # samples\n",
    "bucket = \"tmbdev-objectron\"\n",
    "only_with_anno = False  # only keep samples with annotation\n",
    "max_shards = 5 # for testing; for production, set to 99999"
   ]
  },
  {
   "cell_type": "markdown",
   "metadata": {},
   "source": [
    "# Creating the File Lists"
   ]
  },
  {
   "cell_type": "markdown",
   "metadata": {},
   "source": [
    "Read the complete file list and find the video files."
   ]
  },
  {
   "cell_type": "code",
   "execution_count": 4,
   "metadata": {},
   "outputs": [
    {
     "data": {
      "text/plain": [
       "(210448, 20088)"
      ]
     },
     "execution_count": 4,
     "metadata": {},
     "output_type": "execute_result"
    }
   ],
   "source": [
    "files = set(x.strip() for x in open(\"objectron-files.txt\").readlines())\n",
    "movs = set(x for x in files if \"video.MOV\" in x)\n",
    "len(files), len(movs)"
   ]
  },
  {
   "cell_type": "markdown",
   "metadata": {},
   "source": [
    "Assemble a list of samples, each sample comprising the video file, its corresponding geometry, and the annotation."
   ]
  },
  {
   "cell_type": "code",
   "execution_count": 5,
   "metadata": {},
   "outputs": [
    {
     "name": "stdout",
     "output_type": "stream",
     "text": [
      "['bottle/batch-27/43/video.mov pipe:gsutil cat gs://objectron/videos/bottle/batch-27/43/video.MOV', 'bottle/batch-27/43/geometry.pbdata pipe:gsutil cat gs://objectron/videos/bottle/batch-27/43/geometry.pbdata', 'bottle/batch-27/43/anno.pbdata pipe:gsutil cat gs://objectron/annotations/bottle/batch-27/43.pbdata']\n"
     ]
    },
    {
     "data": {
      "text/plain": [
       "20088"
      ]
     },
     "execution_count": 5,
     "metadata": {},
     "output_type": "execute_result"
    }
   ],
   "source": [
    "def cleanpath(s):\n",
    "    return re.sub(\"gs://objectron/videos/\", \"\", s).lower()\n",
    "\n",
    "samples = []\n",
    "for mov in movs:\n",
    "    base = re.sub(\"/video.MOV\", \"\", mov)\n",
    "    geo = base + \"/geometry.pbdata\"\n",
    "    anno = re.sub(\"/videos/\", \"/annotations/\", base) + \".pbdata\"\n",
    "    sample = [f\"\"\"{cleanpath(mov)} pipe:gsutil cat {mov}\"\"\"]\n",
    "    sample += [f\"\"\"{cleanpath(geo)} pipe:gsutil cat {geo}\"\"\"]\n",
    "    if anno in files and not only_with_anno:\n",
    "        # fix up the path to be in the same directory\n",
    "        sample += [f\"\"\"{cleanpath(base+\"/anno.pbdata\")} pipe:gsutil cat {anno}\"\"\"]\n",
    "    samples.append(sample)\n",
    "print(samples[0])\n",
    "len(samples)"
   ]
  },
  {
   "cell_type": "markdown",
   "metadata": {},
   "source": [
    "Split up the complete list of samples into shards of size `shard_size`."
   ]
  },
  {
   "cell_type": "code",
   "execution_count": 6,
   "metadata": {},
   "outputs": [
    {
     "name": "stdout",
     "output_type": "stream",
     "text": [
      "['bottle/batch-27/43/video.mov pipe:gsutil cat gs://objectron/videos/bottle/batch-27/43/video.MOV', 'bottle/batch-27/43/geometry.pbdata pipe:gsutil cat gs://objectron/videos/bottle/batch-27/43/geometry.pbdata', 'bottle/batch-27/43/anno.pbdata pipe:gsutil cat gs://objectron/annotations/bottle/batch-27/43.pbdata', 'laptop/batch-3/16/video.mov pipe:gsutil cat gs://objectron/videos/laptop/batch-3/16/video.MOV', 'laptop/batch-3/16/geometry.pbdata pipe:gsutil cat gs://objectron/videos/laptop/batch-3/16/geometry.pbdata', 'laptop/batch-3/16/anno.pbdata pipe:gsutil cat gs://objectron/annotations/laptop/batch-3/16.pbdata', 'shoe/batch-34/7/video.mov pipe:gsutil cat gs://objectron/videos/shoe/batch-34/7/video.MOV', 'shoe/batch-34/7/geometry.pbdata pipe:gsutil cat gs://objectron/videos/shoe/batch-34/7/geometry.pbdata', 'shoe/batch-34/7/anno.pbdata pipe:gsutil cat gs://objectron/annotations/shoe/batch-34/7.pbdata']\n",
      "5\n"
     ]
    }
   ],
   "source": [
    "shards = []\n",
    "for i in range(0, len(samples), shard_size):\n",
    "    shards.append(samples[i:i+shard_size])\n",
    "shards = [[x for l in shard for x in l] for shard in shards]\n",
    "shards = shards[:max_shards]\n",
    "print(shards[0][:10])\n",
    "print(len(shards))"
   ]
  },
  {
   "cell_type": "code",
   "execution_count": 7,
   "metadata": {},
   "outputs": [
    {
     "name": "stdout",
     "output_type": "stream",
     "text": [
      "0 1 2 3 4 "
     ]
    }
   ],
   "source": [
    "os.system(\"gsutil rm \")\n",
    "for i, f in enumerate(shards):\n",
    "    print(i, end=\" \", flush=True)\n",
    "    with os.popen(f\"gsutil cp - gs://{bucket}/objectron-{i:04d}.txt\", \"w\") as stream:\n",
    "        stream.write(\"\\n\".join(f) + \"\\n\")"
   ]
  },
  {
   "cell_type": "markdown",
   "metadata": {},
   "source": [
    "# Creating the Shards"
   ]
  },
  {
   "cell_type": "markdown",
   "metadata": {},
   "source": [
    "First, a simple function that takes a \".txt\" file and creates the corresponding shard.\n",
    "\n",
    "The core of the task is just handled by a simple shell command."
   ]
  },
  {
   "cell_type": "code",
   "execution_count": 8,
   "metadata": {},
   "outputs": [
    {
     "data": {
      "text/plain": [
       "'gs://tmbdev-objectron/objectron-0000.tar: already exists'"
      ]
     },
     "execution_count": 8,
     "metadata": {},
     "output_type": "execute_result"
    }
   ],
   "source": [
    "import os\n",
    "\n",
    "def makeshard(src):\n",
    "    output = re.sub(\".txt$\", \".tar\", src)\n",
    "    assert output != src\n",
    "    # output creation on GCS is atomic, so if the file exists, we're done\n",
    "    if os.system(f\"gsutil stat {output}\") == 0:\n",
    "        return f\"{output}: already exists\"\n",
    "    # create the .tar shard in a fully streaming mode\n",
    "    cmd = f\"gsutil cat {src} | tarp create - -o - | gsutil cp - {output}\"\n",
    "    print(cmd)\n",
    "    assert 0 == os.system(cmd)\n",
    "    return f\"{output}: OK\"\n",
    "    \n",
    "makeshard(\"gs://tmbdev-objectron/objectron-0000.txt\")"
   ]
  },
  {
   "cell_type": "markdown",
   "metadata": {},
   "source": [
    "# Parallel Execution"
   ]
  },
  {
   "cell_type": "markdown",
   "metadata": {},
   "source": [
    "You can convert the above Python function to a shell script and submit it with a job queueing system. Alternatively, you can also schedule parallel and distributed execution directly from a system like Dask."
   ]
  },
  {
   "cell_type": "code",
   "execution_count": 9,
   "metadata": {},
   "outputs": [],
   "source": [
    "from dask.distributed import Client\n",
    "from dask import delayed\n",
    "import dask\n",
    "import dask.bag as db"
   ]
  },
  {
   "cell_type": "code",
   "execution_count": 13,
   "metadata": {},
   "outputs": [
    {
     "name": "stderr",
     "output_type": "stream",
     "text": [
      "/home/tmb/proj/webdataset/venv/lib/python3.8/site-packages/distributed/node.py:151: UserWarning: Port 8787 is already in use.\n",
      "Perhaps you already have a cluster running?\n",
      "Hosting the HTTP server on port 46693 instead\n",
      "  warnings.warn(\n"
     ]
    },
    {
     "data": {
      "text/html": [
       "<table style=\"border: 2px solid white;\">\n",
       "<tr>\n",
       "<td style=\"vertical-align: top; border: 0px solid white\">\n",
       "<h3 style=\"text-align: left;\">Client</h3>\n",
       "<ul style=\"text-align: left; list-style: none; margin: 0; padding: 0;\">\n",
       "  <li><b>Scheduler: </b>tcp://127.0.0.1:44381</li>\n",
       "  <li><b>Dashboard: </b><a href='http://127.0.0.1:46693/status' target='_blank'>http://127.0.0.1:46693/status</a></li>\n",
       "</ul>\n",
       "</td>\n",
       "<td style=\"vertical-align: top; border: 0px solid white\">\n",
       "<h3 style=\"text-align: left;\">Cluster</h3>\n",
       "<ul style=\"text-align: left; list-style:none; margin: 0; padding: 0;\">\n",
       "  <li><b>Workers: </b>4</li>\n",
       "  <li><b>Cores: </b>24</li>\n",
       "  <li><b>Memory: </b>67.46 GB</li>\n",
       "</ul>\n",
       "</td>\n",
       "</tr>\n",
       "</table>"
      ],
      "text/plain": [
       "<Client: 'tcp://127.0.0.1:44381' processes=4 threads=24, memory=67.46 GB>"
      ]
     },
     "execution_count": 13,
     "metadata": {},
     "output_type": "execute_result"
    }
   ],
   "source": [
    "client = Client(n_workers=4)\n",
    "npartitions = 4 # used below\n",
    "client"
   ]
  },
  {
   "cell_type": "code",
   "execution_count": 14,
   "metadata": {},
   "outputs": [],
   "source": [
    "sources = [s.strip() for s in os.popen(f\"gsutil ls gs://{bucket}/objectron-*.txt\").readlines()]"
   ]
  },
  {
   "cell_type": "code",
   "execution_count": 15,
   "metadata": {},
   "outputs": [
    {
     "data": {
      "text/plain": [
       "['gs://tmbdev-objectron/objectron-0000.tar: already exists',\n",
       " 'gs://tmbdev-objectron/objectron-0001.tar: already exists',\n",
       " 'gs://tmbdev-objectron/objectron-0002.tar: already exists',\n",
       " 'gs://tmbdev-objectron/objectron-0003.tar: already exists',\n",
       " 'gs://tmbdev-objectron/objectron-0004.tar: already exists']"
      ]
     },
     "execution_count": 15,
     "metadata": {},
     "output_type": "execute_result"
    }
   ],
   "source": [
    "sources = db.from_sequence(sources, npartitions=npartitions)\n",
    "results = sources.map(makeshard)\n",
    "results.compute()"
   ]
  },
  {
   "cell_type": "markdown",
   "metadata": {},
   "source": [
    "# Running It for Real"
   ]
  },
  {
   "cell_type": "markdown",
   "metadata": {},
   "source": [
    "Note that if you want to run this for real, you need to:\n",
    "\n",
    "- change `shard_size` to something like 50-100\n",
    "- change the bucket\n",
    "- change `max_shards` to 999999\n",
    "- set up dask to run actually distributed"
   ]
  },
  {
   "cell_type": "code",
   "execution_count": null,
   "metadata": {},
   "outputs": [],
   "source": []
  }
 ],
 "metadata": {
  "kernelspec": {
   "display_name": "Python 3",
   "language": "python",
   "name": "python3"
  },
  "language_info": {
   "codemirror_mode": {
    "name": "ipython",
    "version": 3
   },
   "file_extension": ".py",
   "mimetype": "text/x-python",
   "name": "python",
   "nbconvert_exporter": "python",
   "pygments_lexer": "ipython3",
   "version": "3.8.5"
  }
 },
 "nbformat": 4,
 "nbformat_minor": 4
}
